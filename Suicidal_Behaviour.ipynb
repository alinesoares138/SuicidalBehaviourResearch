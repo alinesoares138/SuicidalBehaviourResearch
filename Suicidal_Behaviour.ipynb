{
  "nbformat": 4,
  "nbformat_minor": 0,
  "metadata": {
    "colab": {
      "provenance": [],
      "toc_visible": true,
      "authorship_tag": "ABX9TyPKWVgYN/CfRQ92lDeaxuPA",
      "include_colab_link": true
    },
    "kernelspec": {
      "name": "python3",
      "display_name": "Python 3"
    },
    "language_info": {
      "name": "python"
    }
  },
  "cells": [
    {
      "cell_type": "markdown",
      "metadata": {
        "id": "view-in-github",
        "colab_type": "text"
      },
      "source": [
        "<a href=\"https://colab.research.google.com/github/alinesoares138/SuicidalBehaviourResearch/blob/main/Suicidal_Behaviour.ipynb\" target=\"_parent\"><img src=\"https://colab.research.google.com/assets/colab-badge.svg\" alt=\"Open In Colab\"/></a>"
      ]
    },
    {
      "cell_type": "markdown",
      "source": [
        "# **CONTEXTO**\n",
        "\n",
        "O suicídio é uma ocorrência complexa, influenciada por fatores psicológicos, biológicos, sociais e culturais. Segundo dados da Organização Mundial da Saúde, mais de 700 mil pessoas morrem por ano devido ao suicídio, o que representa uma a cada 100 mortes registradas.\n",
        "\n",
        "Ainda de acordo com a OMS, as taxas mundiais de suicídio estão diminuindo, mas na região das Américas os números vêm crescendo. Entre 2000 e 2019, a taxa global diminuiu 36%. No mesmo período, nas Américas, as taxas aumentaram 17%. Entre os jovens de 15 a 29 anos, o suicídio aparece como a quarta causa de morte mais recorrente, atrás de acidentes no trânsito, tuberculose e violência interpessoal.\n",
        "\n",
        "O consumo de álcool e substâncias psicoativas durante a infância e adolescência possuem relação direta com casos de suicídio entre jovens, segundo Antônio Geraldo da Silva, psiquiatra e presidente da Associação Brasileira de Psiquiatria. “O abuso de álcool e outras drogas funciona atuando no ponto desencadeador do suicídio, que é a doença mental chamada depressão, ou seja, os transtornos afetivos. Esse fator representa de 36% a 37% da população que cometeu suicídio”."
      ],
      "metadata": {
        "id": "CL45qC6VJjjP"
      }
    },
    {
      "cell_type": "markdown",
      "source": [
        "\n",
        "### **Problemática**\n",
        "\n",
        "Ao contrário do que se pensa, a maioria das pessoas com comportamento suicida dá sinais ou fala sobre suas ideias de morte. A decisão não é individual e é causada por uma doença que altera de forma radical a percepção da realidade. Dessa forma, a vontade de tirar a própria vida pode ser tratada e curada.\n",
        "\n",
        "Compreender a carga e os determinantes do suicídio durante a adolescência é fundamental para alcançar as metas globais de saúde."
      ],
      "metadata": {
        "id": "rbhSYWMvLLJ5"
      }
    },
    {
      "cell_type": "markdown",
      "source": [
        "### **Objetivo**\n",
        "\n",
        "Criar um modelo descritivo em que seja possível testar hipóteses através de modelos estatísticos."
      ],
      "metadata": {
        "id": "DdJ-tRcKJ-Vu"
      }
    },
    {
      "cell_type": "markdown",
      "source": [
        "### **Tarefas**\n",
        "\n",
        "1. Testar a causalidade de ter pais presentes\n",
        "2. Testar a causalidade de ter amigos próximos\n",
        "3. Testar a causalidade de ambos fatores conjuntamente\n"
      ],
      "metadata": {
        "id": "4AjowW2CL-l2"
      }
    },
    {
      "cell_type": "markdown",
      "source": [
        "Estrutura de Dados:\n",
        "\n",
        "ETAPAS DO PROJETO:(imagem)\n"
      ],
      "metadata": {
        "id": "j6HSd0ZBrooo"
      }
    },
    {
      "cell_type": "markdown",
      "source": [
        "# **1. IMPORTAÇÕES**"
      ],
      "metadata": {
        "id": "D66edP0Lr92s"
      }
    },
    {
      "cell_type": "code",
      "execution_count": 157,
      "metadata": {
        "id": "5WcCTSVKmWE-"
      },
      "outputs": [],
      "source": [
        "import numpy as np # linear algebra\n",
        "import pandas as pd # data processing, CSV file I/O (e.g. pd.read_csv)\n",
        "import matplotlib.pyplot as plt # graphics\n",
        "import scipy.stats \n",
        "import statsmodels.api as sm"
      ]
    },
    {
      "cell_type": "markdown",
      "source": [
        "# **2. COLETA DE DADOS**"
      ],
      "metadata": {
        "id": "nLDN6LC1sGb0"
      }
    },
    {
      "cell_type": "markdown",
      "source": [
        "###**Core Modules**\n",
        "The GSHS questionnaire is comprised of 10 core modules addressing the leading causes of morbidity and mortality among children and adults worldwide:\n",
        "\n",
        "* alcohol use\n",
        "-dietary behaviours\n",
        "-drug use\n",
        "-hygiene\n",
        "-mental health\n",
        "-physical activity\n",
        "-protective factors\n",
        "-sexual behaviours\n",
        "-tobacco use\n",
        "-violence and unintentional injury"
      ],
      "metadata": {
        "id": "DkXiT7pjMzBS"
      }
    },
    {
      "cell_type": "code",
      "source": [
        "# previewing the dataset\n",
        "data = pd.read_csv('/content/GHSH_Pooled_Data.csv')\n",
        "data.head()"
      ],
      "metadata": {
        "colab": {
          "base_uri": "https://localhost:8080/",
          "height": 288
        },
        "id": "TCY0RovCKPvM",
        "outputId": "ce93a042-18c0-4adb-f435-bf68c4970699"
      },
      "execution_count": 202,
      "outputs": [
        {
          "output_type": "execute_result",
          "data": {
            "text/plain": [
              "     Country  Year Age Group     Sex  Currently_Drink_Alcohol  \\\n",
              "0  Argentina  2018     13-15  Female                     50.3   \n",
              "1  Argentina  2018     13-15    Male                     44.9   \n",
              "2  Argentina  2018     16-17  Female                     67.2   \n",
              "3  Argentina  2018     16-17    Male                     68.1   \n",
              "4  Argentina  2012     13-15    Male                     49.3   \n",
              "\n",
              "   Really_Get_Drunk  Overwieght  Use_Marijuana  Have_Understanding_Parents  \\\n",
              "0              30.7        27.8            7.9                        41.5   \n",
              "1              26.1        39.1            8.4                        44.5   \n",
              "2              56.3        22.5           21.9                        37.1   \n",
              "3              55.8        27.9           27.0                        39.8   \n",
              "4              28.9        35.9           10.6                        46.2   \n",
              "\n",
              "   Missed_classes_without_permssion  Had_sexual_relation  Smoke_cig_currently  \\\n",
              "0                              24.7                 25.7                 16.8   \n",
              "1                              27.9                 38.4                 12.1   \n",
              "2                              34.0                 59.1                 28.5   \n",
              "3                              39.4                 68.6                 28.0   \n",
              "4                              32.0                 43.5                 17.0   \n",
              "\n",
              "   Had_fights  Bullied  Got_Seriously_injured  No_close_friends  \\\n",
              "0        17.2      NaN                   27.5               4.8   \n",
              "1        33.2      NaN                   37.4               5.5   \n",
              "2        15.1      NaN                   30.1               6.3   \n",
              "3        33.6      NaN                   40.3               6.6   \n",
              "4        44.2     42.1                   24.8               6.1   \n",
              "\n",
              "   Attempted_suicide  \n",
              "0               19.9  \n",
              "1               10.4  \n",
              "2               17.4  \n",
              "3               11.2  \n",
              "4               12.9  "
            ],
            "text/html": [
              "\n",
              "  <div id=\"df-e7cecf0a-3088-4223-94c2-7e6bebe29aae\">\n",
              "    <div class=\"colab-df-container\">\n",
              "      <div>\n",
              "<style scoped>\n",
              "    .dataframe tbody tr th:only-of-type {\n",
              "        vertical-align: middle;\n",
              "    }\n",
              "\n",
              "    .dataframe tbody tr th {\n",
              "        vertical-align: top;\n",
              "    }\n",
              "\n",
              "    .dataframe thead th {\n",
              "        text-align: right;\n",
              "    }\n",
              "</style>\n",
              "<table border=\"1\" class=\"dataframe\">\n",
              "  <thead>\n",
              "    <tr style=\"text-align: right;\">\n",
              "      <th></th>\n",
              "      <th>Country</th>\n",
              "      <th>Year</th>\n",
              "      <th>Age Group</th>\n",
              "      <th>Sex</th>\n",
              "      <th>Currently_Drink_Alcohol</th>\n",
              "      <th>Really_Get_Drunk</th>\n",
              "      <th>Overwieght</th>\n",
              "      <th>Use_Marijuana</th>\n",
              "      <th>Have_Understanding_Parents</th>\n",
              "      <th>Missed_classes_without_permssion</th>\n",
              "      <th>Had_sexual_relation</th>\n",
              "      <th>Smoke_cig_currently</th>\n",
              "      <th>Had_fights</th>\n",
              "      <th>Bullied</th>\n",
              "      <th>Got_Seriously_injured</th>\n",
              "      <th>No_close_friends</th>\n",
              "      <th>Attempted_suicide</th>\n",
              "    </tr>\n",
              "  </thead>\n",
              "  <tbody>\n",
              "    <tr>\n",
              "      <th>0</th>\n",
              "      <td>Argentina</td>\n",
              "      <td>2018</td>\n",
              "      <td>13-15</td>\n",
              "      <td>Female</td>\n",
              "      <td>50.3</td>\n",
              "      <td>30.7</td>\n",
              "      <td>27.8</td>\n",
              "      <td>7.9</td>\n",
              "      <td>41.5</td>\n",
              "      <td>24.7</td>\n",
              "      <td>25.7</td>\n",
              "      <td>16.8</td>\n",
              "      <td>17.2</td>\n",
              "      <td>NaN</td>\n",
              "      <td>27.5</td>\n",
              "      <td>4.8</td>\n",
              "      <td>19.9</td>\n",
              "    </tr>\n",
              "    <tr>\n",
              "      <th>1</th>\n",
              "      <td>Argentina</td>\n",
              "      <td>2018</td>\n",
              "      <td>13-15</td>\n",
              "      <td>Male</td>\n",
              "      <td>44.9</td>\n",
              "      <td>26.1</td>\n",
              "      <td>39.1</td>\n",
              "      <td>8.4</td>\n",
              "      <td>44.5</td>\n",
              "      <td>27.9</td>\n",
              "      <td>38.4</td>\n",
              "      <td>12.1</td>\n",
              "      <td>33.2</td>\n",
              "      <td>NaN</td>\n",
              "      <td>37.4</td>\n",
              "      <td>5.5</td>\n",
              "      <td>10.4</td>\n",
              "    </tr>\n",
              "    <tr>\n",
              "      <th>2</th>\n",
              "      <td>Argentina</td>\n",
              "      <td>2018</td>\n",
              "      <td>16-17</td>\n",
              "      <td>Female</td>\n",
              "      <td>67.2</td>\n",
              "      <td>56.3</td>\n",
              "      <td>22.5</td>\n",
              "      <td>21.9</td>\n",
              "      <td>37.1</td>\n",
              "      <td>34.0</td>\n",
              "      <td>59.1</td>\n",
              "      <td>28.5</td>\n",
              "      <td>15.1</td>\n",
              "      <td>NaN</td>\n",
              "      <td>30.1</td>\n",
              "      <td>6.3</td>\n",
              "      <td>17.4</td>\n",
              "    </tr>\n",
              "    <tr>\n",
              "      <th>3</th>\n",
              "      <td>Argentina</td>\n",
              "      <td>2018</td>\n",
              "      <td>16-17</td>\n",
              "      <td>Male</td>\n",
              "      <td>68.1</td>\n",
              "      <td>55.8</td>\n",
              "      <td>27.9</td>\n",
              "      <td>27.0</td>\n",
              "      <td>39.8</td>\n",
              "      <td>39.4</td>\n",
              "      <td>68.6</td>\n",
              "      <td>28.0</td>\n",
              "      <td>33.6</td>\n",
              "      <td>NaN</td>\n",
              "      <td>40.3</td>\n",
              "      <td>6.6</td>\n",
              "      <td>11.2</td>\n",
              "    </tr>\n",
              "    <tr>\n",
              "      <th>4</th>\n",
              "      <td>Argentina</td>\n",
              "      <td>2012</td>\n",
              "      <td>13-15</td>\n",
              "      <td>Male</td>\n",
              "      <td>49.3</td>\n",
              "      <td>28.9</td>\n",
              "      <td>35.9</td>\n",
              "      <td>10.6</td>\n",
              "      <td>46.2</td>\n",
              "      <td>32.0</td>\n",
              "      <td>43.5</td>\n",
              "      <td>17.0</td>\n",
              "      <td>44.2</td>\n",
              "      <td>42.1</td>\n",
              "      <td>24.8</td>\n",
              "      <td>6.1</td>\n",
              "      <td>12.9</td>\n",
              "    </tr>\n",
              "  </tbody>\n",
              "</table>\n",
              "</div>\n",
              "      <button class=\"colab-df-convert\" onclick=\"convertToInteractive('df-e7cecf0a-3088-4223-94c2-7e6bebe29aae')\"\n",
              "              title=\"Convert this dataframe to an interactive table.\"\n",
              "              style=\"display:none;\">\n",
              "        \n",
              "  <svg xmlns=\"http://www.w3.org/2000/svg\" height=\"24px\"viewBox=\"0 0 24 24\"\n",
              "       width=\"24px\">\n",
              "    <path d=\"M0 0h24v24H0V0z\" fill=\"none\"/>\n",
              "    <path d=\"M18.56 5.44l.94 2.06.94-2.06 2.06-.94-2.06-.94-.94-2.06-.94 2.06-2.06.94zm-11 1L8.5 8.5l.94-2.06 2.06-.94-2.06-.94L8.5 2.5l-.94 2.06-2.06.94zm10 10l.94 2.06.94-2.06 2.06-.94-2.06-.94-.94-2.06-.94 2.06-2.06.94z\"/><path d=\"M17.41 7.96l-1.37-1.37c-.4-.4-.92-.59-1.43-.59-.52 0-1.04.2-1.43.59L10.3 9.45l-7.72 7.72c-.78.78-.78 2.05 0 2.83L4 21.41c.39.39.9.59 1.41.59.51 0 1.02-.2 1.41-.59l7.78-7.78 2.81-2.81c.8-.78.8-2.07 0-2.86zM5.41 20L4 18.59l7.72-7.72 1.47 1.35L5.41 20z\"/>\n",
              "  </svg>\n",
              "      </button>\n",
              "      \n",
              "  <style>\n",
              "    .colab-df-container {\n",
              "      display:flex;\n",
              "      flex-wrap:wrap;\n",
              "      gap: 12px;\n",
              "    }\n",
              "\n",
              "    .colab-df-convert {\n",
              "      background-color: #E8F0FE;\n",
              "      border: none;\n",
              "      border-radius: 50%;\n",
              "      cursor: pointer;\n",
              "      display: none;\n",
              "      fill: #1967D2;\n",
              "      height: 32px;\n",
              "      padding: 0 0 0 0;\n",
              "      width: 32px;\n",
              "    }\n",
              "\n",
              "    .colab-df-convert:hover {\n",
              "      background-color: #E2EBFA;\n",
              "      box-shadow: 0px 1px 2px rgba(60, 64, 67, 0.3), 0px 1px 3px 1px rgba(60, 64, 67, 0.15);\n",
              "      fill: #174EA6;\n",
              "    }\n",
              "\n",
              "    [theme=dark] .colab-df-convert {\n",
              "      background-color: #3B4455;\n",
              "      fill: #D2E3FC;\n",
              "    }\n",
              "\n",
              "    [theme=dark] .colab-df-convert:hover {\n",
              "      background-color: #434B5C;\n",
              "      box-shadow: 0px 1px 3px 1px rgba(0, 0, 0, 0.15);\n",
              "      filter: drop-shadow(0px 1px 2px rgba(0, 0, 0, 0.3));\n",
              "      fill: #FFFFFF;\n",
              "    }\n",
              "  </style>\n",
              "\n",
              "      <script>\n",
              "        const buttonEl =\n",
              "          document.querySelector('#df-e7cecf0a-3088-4223-94c2-7e6bebe29aae button.colab-df-convert');\n",
              "        buttonEl.style.display =\n",
              "          google.colab.kernel.accessAllowed ? 'block' : 'none';\n",
              "\n",
              "        async function convertToInteractive(key) {\n",
              "          const element = document.querySelector('#df-e7cecf0a-3088-4223-94c2-7e6bebe29aae');\n",
              "          const dataTable =\n",
              "            await google.colab.kernel.invokeFunction('convertToInteractive',\n",
              "                                                     [key], {});\n",
              "          if (!dataTable) return;\n",
              "\n",
              "          const docLinkHtml = 'Like what you see? Visit the ' +\n",
              "            '<a target=\"_blank\" href=https://colab.research.google.com/notebooks/data_table.ipynb>data table notebook</a>'\n",
              "            + ' to learn more about interactive tables.';\n",
              "          element.innerHTML = '';\n",
              "          dataTable['output_type'] = 'display_data';\n",
              "          await google.colab.output.renderOutput(dataTable, element);\n",
              "          const docLink = document.createElement('div');\n",
              "          docLink.innerHTML = docLinkHtml;\n",
              "          element.appendChild(docLink);\n",
              "        }\n",
              "      </script>\n",
              "    </div>\n",
              "  </div>\n",
              "  "
            ]
          },
          "metadata": {},
          "execution_count": 202
        }
      ]
    },
    {
      "cell_type": "markdown",
      "source": [
        "# **3. LIMPEZA E EXPLORAÇÃO DE DADOS**"
      ],
      "metadata": {
        "id": "QgD3HKbZsVY0"
      }
    },
    {
      "cell_type": "code",
      "source": [
        "# Counting missing value\n",
        "missing_value_count = data.isnull().sum()\n",
        "missing_value_count"
      ],
      "metadata": {
        "colab": {
          "base_uri": "https://localhost:8080/"
        },
        "id": "2bHgGrw2skIo",
        "outputId": "880afe01-8221-4f95-e54e-1399a9fcb23d"
      },
      "execution_count": 125,
      "outputs": [
        {
          "output_type": "execute_result",
          "data": {
            "text/plain": [
              "Country                             0\n",
              "Year                                0\n",
              "Age Group                           0\n",
              "Sex                                 0\n",
              "Currently_Drink_Alcohol             0\n",
              "Really_Get_Drunk                    0\n",
              "Overwieght                          0\n",
              "Use_Marijuana                       0\n",
              "Have_Understanding_Parents          0\n",
              "Missed_classes_without_permssion    0\n",
              "Had_sexual_relation                 0\n",
              "Smoke_cig_currently                 2\n",
              "Had_fights                          0\n",
              "Bullied                             4\n",
              "Got_Seriously_injured               0\n",
              "No_close_friends                    0\n",
              "Attempted_suicide                   0\n",
              "dtype: int64"
            ]
          },
          "metadata": {},
          "execution_count": 125
        }
      ]
    },
    {
      "cell_type": "code",
      "source": [
        "# filling the null values with the collumn's mean\n",
        "data['Smoke_cig_currently']=data['Smoke_cig_currently'].fillna(data['Smoke_cig_currently'].mean())\n",
        "data['Bullied']=data['Bullied'].fillna(data['Bullied'].mean())\n",
        "\n",
        "# checking the missing value again\n",
        "missing_value_count = data.isnull().sum()\n",
        "missing_value_count"
      ],
      "metadata": {
        "id": "MISLcyPTt4hZ"
      },
      "execution_count": 130,
      "outputs": []
    },
    {
      "cell_type": "code",
      "source": [
        "# ploting 1\n",
        "\n",
        "y = data['Attempted_suicide']\n",
        "x = data['Year']\n",
        "\n",
        "figura = plt.figure(figsize=(8,4))\n",
        "plt.bar(data['Year'], data['Attempted_suicide'], label = data)\n",
        "plt.title('Tentativas de suicídio na última década',fontweight='bold')\n",
        "# plt.xlabel = ('Qt de tentativas')\n",
        "# plt.yabel = ('Ano da tentativa')\n",
        "\n",
        "plt.xticks(x)\n",
        "\n",
        "plt.tick_params(labelsize=12, width= 1)\n",
        "plt.show()"
      ],
      "metadata": {
        "colab": {
          "base_uri": "https://localhost:8080/",
          "height": 284
        },
        "id": "OBuPS2o7QkAh",
        "outputId": "a242ca18-d8dc-4a2d-d466-722080c914bf"
      },
      "execution_count": 123,
      "outputs": [
        {
          "output_type": "display_data",
          "data": {
            "text/plain": [
              "<Figure size 576x288 with 1 Axes>"
            ],
            "image/png": "[encoded data removed]"
          },
          "metadata": {
            "needs_background": "light"
          }
        }
      ]
    },
    {
      "cell_type": "markdown",
      "source": [
        "# **3.1 Statistical hypothesis testing**:\n",
        "---\n",
        "\n",
        "*   **What are the hypothesis?**\n",
        "\n",
        "\n",
        "1.   Does having understading parents influence on teens with suicidal behaviour?\n",
        "2.   Does having close friends influence on teens with suicidal behaviour?\n",
        "3.   What is the effect on having both understading parents and close friends on teens with suicidal behaviour?\n",
        "\n",
        "\n",
        "\n",
        "\n",
        "\n",
        "\n"
      ],
      "metadata": {
        "id": "bLiOP4ie1f80"
      }
    },
    {
      "cell_type": "code",
      "source": [
        "# t test\n",
        "# collecting data\n",
        "has_close_relationships = data['Have_Understanding_Parents'], data['No_close_friends'], data['Attempted_suicide'], data['Age Group']\n",
        "has_close_relationships = pd.DataFrame(has_close_relationships)\n",
        "display(has_close_relationships)"
      ],
      "metadata": {
        "colab": {
          "base_uri": "https://localhost:8080/",
          "height": 286
        },
        "id": "fBl-Utwex9Pw",
        "outputId": "b7b61da9-3db4-4eb1-f976-d96507f6c3dc"
      },
      "execution_count": 201,
      "outputs": [
        {
          "output_type": "display_data",
          "data": {
            "text/plain": [
              "                              0      1      2      3      4      5      6    \\\n",
              "Have_Understanding_Parents   41.5   44.5   37.1   39.8   46.2   49.9   48.1   \n",
              "No_close_friends              4.8    5.5    6.3    6.6    6.1    4.3    6.8   \n",
              "Attempted_suicide            19.9   10.4   17.4   11.2   12.9   18.9   10.4   \n",
              "Age Group                   13-15  13-15  16-17  16-17  13-15  13-15  13-15   \n",
              "\n",
              "                              7      8      9    ...    96     97     98   \\\n",
              "Have_Understanding_Parents   44.8   35.7   39.7  ...   13.9   17.4   16.2   \n",
              "No_close_friends              8.3   10.8   14.2  ...    7.9   10.7    9.7   \n",
              "Attempted_suicide            15.4   14.4    9.6  ...   30.3   18.6   23.1   \n",
              "Age Group                   13-15  13-15  13-15  ...  13-15  13-15  16-17   \n",
              "\n",
              "                              99     100    101    102    103    104    105  \n",
              "Have_Understanding_Parents   21.5   18.3   20.2   36.3   36.3   36.5   37.8  \n",
              "No_close_friends              7.6   17.0   14.3    4.1    3.3    7.3    1.5  \n",
              "Attempted_suicide            16.7   28.3   19.5   14.7   16.9    9.0   16.2  \n",
              "Age Group                   16-17  13-15  13-15  13-15  13-15  16-17  16-17  \n",
              "\n",
              "[4 rows x 106 columns]"
            ],
            "text/html": [
              "\n",
              "  <div id=\"df-15cfcd11-5119-4d0d-b1f9-506a68112b39\">\n",
              "    <div class=\"colab-df-container\">\n",
              "      <div>\n",
              "<style scoped>\n",
              "    .dataframe tbody tr th:only-of-type {\n",
              "        vertical-align: middle;\n",
              "    }\n",
              "\n",
              "    .dataframe tbody tr th {\n",
              "        vertical-align: top;\n",
              "    }\n",
              "\n",
              "    .dataframe thead th {\n",
              "        text-align: right;\n",
              "    }\n",
              "</style>\n",
              "<table border=\"1\" class=\"dataframe\">\n",
              "  <thead>\n",
              "    <tr style=\"text-align: right;\">\n",
              "      <th></th>\n",
              "      <th>0</th>\n",
              "      <th>1</th>\n",
              "      <th>2</th>\n",
              "      <th>3</th>\n",
              "      <th>4</th>\n",
              "      <th>5</th>\n",
              "      <th>6</th>\n",
              "      <th>7</th>\n",
              "      <th>8</th>\n",
              "      <th>9</th>\n",
              "      <th>...</th>\n",
              "      <th>96</th>\n",
              "      <th>97</th>\n",
              "      <th>98</th>\n",
              "      <th>99</th>\n",
              "      <th>100</th>\n",
              "      <th>101</th>\n",
              "      <th>102</th>\n",
              "      <th>103</th>\n",
              "      <th>104</th>\n",
              "      <th>105</th>\n",
              "    </tr>\n",
              "  </thead>\n",
              "  <tbody>\n",
              "    <tr>\n",
              "      <th>Have_Understanding_Parents</th>\n",
              "      <td>41.5</td>\n",
              "      <td>44.5</td>\n",
              "      <td>37.1</td>\n",
              "      <td>39.8</td>\n",
              "      <td>46.2</td>\n",
              "      <td>49.9</td>\n",
              "      <td>48.1</td>\n",
              "      <td>44.8</td>\n",
              "      <td>35.7</td>\n",
              "      <td>39.7</td>\n",
              "      <td>...</td>\n",
              "      <td>13.9</td>\n",
              "      <td>17.4</td>\n",
              "      <td>16.2</td>\n",
              "      <td>21.5</td>\n",
              "      <td>18.3</td>\n",
              "      <td>20.2</td>\n",
              "      <td>36.3</td>\n",
              "      <td>36.3</td>\n",
              "      <td>36.5</td>\n",
              "      <td>37.8</td>\n",
              "    </tr>\n",
              "    <tr>\n",
              "      <th>No_close_friends</th>\n",
              "      <td>4.8</td>\n",
              "      <td>5.5</td>\n",
              "      <td>6.3</td>\n",
              "      <td>6.6</td>\n",
              "      <td>6.1</td>\n",
              "      <td>4.3</td>\n",
              "      <td>6.8</td>\n",
              "      <td>8.3</td>\n",
              "      <td>10.8</td>\n",
              "      <td>14.2</td>\n",
              "      <td>...</td>\n",
              "      <td>7.9</td>\n",
              "      <td>10.7</td>\n",
              "      <td>9.7</td>\n",
              "      <td>7.6</td>\n",
              "      <td>17.0</td>\n",
              "      <td>14.3</td>\n",
              "      <td>4.1</td>\n",
              "      <td>3.3</td>\n",
              "      <td>7.3</td>\n",
              "      <td>1.5</td>\n",
              "    </tr>\n",
              "    <tr>\n",
              "      <th>Attempted_suicide</th>\n",
              "      <td>19.9</td>\n",
              "      <td>10.4</td>\n",
              "      <td>17.4</td>\n",
              "      <td>11.2</td>\n",
              "      <td>12.9</td>\n",
              "      <td>18.9</td>\n",
              "      <td>10.4</td>\n",
              "      <td>15.4</td>\n",
              "      <td>14.4</td>\n",
              "      <td>9.6</td>\n",
              "      <td>...</td>\n",
              "      <td>30.3</td>\n",
              "      <td>18.6</td>\n",
              "      <td>23.1</td>\n",
              "      <td>16.7</td>\n",
              "      <td>28.3</td>\n",
              "      <td>19.5</td>\n",
              "      <td>14.7</td>\n",
              "      <td>16.9</td>\n",
              "      <td>9.0</td>\n",
              "      <td>16.2</td>\n",
              "    </tr>\n",
              "    <tr>\n",
              "      <th>Age Group</th>\n",
              "      <td>13-15</td>\n",
              "      <td>13-15</td>\n",
              "      <td>16-17</td>\n",
              "      <td>16-17</td>\n",
              "      <td>13-15</td>\n",
              "      <td>13-15</td>\n",
              "      <td>13-15</td>\n",
              "      <td>13-15</td>\n",
              "      <td>13-15</td>\n",
              "      <td>13-15</td>\n",
              "      <td>...</td>\n",
              "      <td>13-15</td>\n",
              "      <td>13-15</td>\n",
              "      <td>16-17</td>\n",
              "      <td>16-17</td>\n",
              "      <td>13-15</td>\n",
              "      <td>13-15</td>\n",
              "      <td>13-15</td>\n",
              "      <td>13-15</td>\n",
              "      <td>16-17</td>\n",
              "      <td>16-17</td>\n",
              "    </tr>\n",
              "  </tbody>\n",
              "</table>\n",
              "<p>4 rows × 106 columns</p>\n",
              "</div>\n",
              "      <button class=\"colab-df-convert\" onclick=\"convertToInteractive('df-15cfcd11-5119-4d0d-b1f9-506a68112b39')\"\n",
              "              title=\"Convert this dataframe to an interactive table.\"\n",
              "              style=\"display:none;\">\n",
              "        \n",
              "  <svg xmlns=\"http://www.w3.org/2000/svg\" height=\"24px\"viewBox=\"0 0 24 24\"\n",
              "       width=\"24px\">\n",
              "    <path d=\"M0 0h24v24H0V0z\" fill=\"none\"/>\n",
              "    <path d=\"M18.56 5.44l.94 2.06.94-2.06 2.06-.94-2.06-.94-.94-2.06-.94 2.06-2.06.94zm-11 1L8.5 8.5l.94-2.06 2.06-.94-2.06-.94L8.5 2.5l-.94 2.06-2.06.94zm10 10l.94 2.06.94-2.06 2.06-.94-2.06-.94-.94-2.06-.94 2.06-2.06.94z\"/><path d=\"M17.41 7.96l-1.37-1.37c-.4-.4-.92-.59-1.43-.59-.52 0-1.04.2-1.43.59L10.3 9.45l-7.72 7.72c-.78.78-.78 2.05 0 2.83L4 21.41c.39.39.9.59 1.41.59.51 0 1.02-.2 1.41-.59l7.78-7.78 2.81-2.81c.8-.78.8-2.07 0-2.86zM5.41 20L4 18.59l7.72-7.72 1.47 1.35L5.41 20z\"/>\n",
              "  </svg>\n",
              "      </button>\n",
              "      \n",
              "  <style>\n",
              "    .colab-df-container {\n",
              "      display:flex;\n",
              "      flex-wrap:wrap;\n",
              "      gap: 12px;\n",
              "    }\n",
              "\n",
              "    .colab-df-convert {\n",
              "      background-color: #E8F0FE;\n",
              "      border: none;\n",
              "      border-radius: 50%;\n",
              "      cursor: pointer;\n",
              "      display: none;\n",
              "      fill: #1967D2;\n",
              "      height: 32px;\n",
              "      padding: 0 0 0 0;\n",
              "      width: 32px;\n",
              "    }\n",
              "\n",
              "    .colab-df-convert:hover {\n",
              "      background-color: #E2EBFA;\n",
              "      box-shadow: 0px 1px 2px rgba(60, 64, 67, 0.3), 0px 1px 3px 1px rgba(60, 64, 67, 0.15);\n",
              "      fill: #174EA6;\n",
              "    }\n",
              "\n",
              "    [theme=dark] .colab-df-convert {\n",
              "      background-color: #3B4455;\n",
              "      fill: #D2E3FC;\n",
              "    }\n",
              "\n",
              "    [theme=dark] .colab-df-convert:hover {\n",
              "      background-color: #434B5C;\n",
              "      box-shadow: 0px 1px 3px 1px rgba(0, 0, 0, 0.15);\n",
              "      filter: drop-shadow(0px 1px 2px rgba(0, 0, 0, 0.3));\n",
              "      fill: #FFFFFF;\n",
              "    }\n",
              "  </style>\n",
              "\n",
              "      <script>\n",
              "        const buttonEl =\n",
              "          document.querySelector('#df-15cfcd11-5119-4d0d-b1f9-506a68112b39 button.colab-df-convert');\n",
              "        buttonEl.style.display =\n",
              "          google.colab.kernel.accessAllowed ? 'block' : 'none';\n",
              "\n",
              "        async function convertToInteractive(key) {\n",
              "          const element = document.querySelector('#df-15cfcd11-5119-4d0d-b1f9-506a68112b39');\n",
              "          const dataTable =\n",
              "            await google.colab.kernel.invokeFunction('convertToInteractive',\n",
              "                                                     [key], {});\n",
              "          if (!dataTable) return;\n",
              "\n",
              "          const docLinkHtml = 'Like what you see? Visit the ' +\n",
              "            '<a target=\"_blank\" href=https://colab.research.google.com/notebooks/data_table.ipynb>data table notebook</a>'\n",
              "            + ' to learn more about interactive tables.';\n",
              "          element.innerHTML = '';\n",
              "          dataTable['output_type'] = 'display_data';\n",
              "          await google.colab.output.renderOutput(dataTable, element);\n",
              "          const docLink = document.createElement('div');\n",
              "          docLink.innerHTML = docLinkHtml;\n",
              "          element.appendChild(docLink);\n",
              "        }\n",
              "      </script>\n",
              "    </div>\n",
              "  </div>\n",
              "  "
            ]
          },
          "metadata": {}
        }
      ]
    },
    {
      "cell_type": "markdown",
      "source": [
        "### 3.1.1 Does having **understading parents** influence on teens with suicidal behaviour?"
      ],
      "metadata": {
        "id": "U9H_XpGA7aKe"
      }
    },
    {
      "cell_type": "code",
      "source": [
        "# collecting data\n",
        "group1 = data['Attempted_suicide']\n",
        "group2 = data['Have_Understanding_Parents']"
      ],
      "metadata": {
        "id": "p65MEmjT1Sbp"
      },
      "execution_count": 153,
      "outputs": []
    },
    {
      "cell_type": "code",
      "source": [
        "# converting the list to array\n",
        "x = np.array(group1)\n",
        "y = np.array(group2)"
      ],
      "metadata": {
        "id": "SmZl8oUq2tLj"
      },
      "execution_count": 154,
      "outputs": []
    },
    {
      "cell_type": "code",
      "source": [
        "# calculating the variance of each group\n",
        "print(np.var(group1), np.var(group2))\n",
        "\n",
        "def f_test(group1, group2):\n",
        "\tf = np.var(group1, ddof=1)/np.var(group2, ddof=1)\n",
        "\tnun = x.size-1\n",
        "\tdun = y.size-1\n",
        "\tp_value = 1-scipy.stats.f.cdf(f, nun, dun)\n",
        "\treturn f, p_value"
      ],
      "metadata": {
        "colab": {
          "base_uri": "https://localhost:8080/"
        },
        "id": "xHUByRmt2yKm",
        "outputId": "ab81f074-d387-4068-c22e-0709d4ded5ef"
      },
      "execution_count": 155,
      "outputs": [
        {
          "output_type": "stream",
          "name": "stdout",
          "text": [
            "85.1887184051264 132.35934496262016\n"
          ]
        }
      ]
    },
    {
      "cell_type": "code",
      "source": [
        "# perform F-test\n",
        "f_test(x, y)"
      ],
      "metadata": {
        "colab": {
          "base_uri": "https://localhost:8080/"
        },
        "id": "00jjuoSU22p8",
        "outputId": "73d34956-1ce3-4fd9-9595-8eef34e6e95c"
      },
      "execution_count": 158,
      "outputs": [
        {
          "output_type": "execute_result",
          "data": {
            "text/plain": [
              "(0.6436169537495422, 0.9875614828289081)"
            ]
          },
          "metadata": {},
          "execution_count": 158
        }
      ]
    },
    {
      "cell_type": "markdown",
      "source": [
        "#### **Result:**\n",
        "The F test statistic is 0.64 and the p-value is 0.987 so we reject the null hypothesis as p-value <=0.05. \n",
        "\n",
        "This means that statistically speaking, having understading parents do not have significant cause of variability on its own."
      ],
      "metadata": {
        "id": "jjrgtYQO3AHy"
      }
    },
    {
      "cell_type": "markdown",
      "source": [
        "### 3.1.2 Does having close friends influence on teens with suicidal behaviour?"
      ],
      "metadata": {
        "id": "ko5ZqjuT7ytO"
      }
    },
    {
      "cell_type": "code",
      "source": [
        "# test 2\n",
        "# Create data\n",
        "group3 = data['Attempted_suicide']\n",
        "group4 = data['No_close_friends']"
      ],
      "metadata": {
        "id": "x3R7Tc6z505R"
      },
      "execution_count": 165,
      "outputs": []
    },
    {
      "cell_type": "code",
      "source": [
        "# converting the list to array\n",
        "x1 = np.array(group1)\n",
        "y1 = np.array(group2)"
      ],
      "metadata": {
        "id": "KItNDvLB6XJC"
      },
      "execution_count": 166,
      "outputs": []
    },
    {
      "cell_type": "code",
      "source": [
        "# calculate variance of each group\n",
        "print(np.var(group3), np.var(group4))\n",
        "\n",
        "def f_test(group3, group4):\n",
        "\tf = np.var(group3, ddof=1)/np.var(group4, ddof=1)\n",
        "\ta = x1.size-1\n",
        "\tb = y1.size-1\n",
        "\tp_value = 1-scipy.stats.f.cdf(f, a, b)\n",
        "\treturn f, p_value"
      ],
      "metadata": {
        "colab": {
          "base_uri": "https://localhost:8080/"
        },
        "id": "4-s9ZflT6ZSS",
        "outputId": "f6ae6ca2-b8ce-4796-f589-297696b785d2"
      },
      "execution_count": 167,
      "outputs": [
        {
          "output_type": "stream",
          "name": "stdout",
          "text": [
            "85.1887184051264 18.87567550729797\n"
          ]
        }
      ]
    },
    {
      "cell_type": "code",
      "source": [
        "# perform F-test\n",
        "f_test(x1, y1)"
      ],
      "metadata": {
        "colab": {
          "base_uri": "https://localhost:8080/"
        },
        "id": "_jaR1zBK6avi",
        "outputId": "5fddb30d-a13c-41b7-db42-9af0845c4ecb"
      },
      "execution_count": 168,
      "outputs": [
        {
          "output_type": "execute_result",
          "data": {
            "text/plain": [
              "(0.6436169537495422, 0.9875614828289081)"
            ]
          },
          "metadata": {},
          "execution_count": 168
        }
      ]
    },
    {
      "cell_type": "markdown",
      "source": [
        "#### **Result:**\n",
        "The F test statistic is 0.64 and the p-value is 0.987 so we reject the null hypothesis as p-value <=0.05. \n",
        "\n",
        "This means that statistically speaking, not having close friends also do not have significant cause of variability on its own."
      ],
      "metadata": {
        "id": "kZHQfygJ7L_O"
      }
    },
    {
      "cell_type": "markdown",
      "source": [
        "### 3.1.3 What is the effect on having both understading parents and close friends on teens with suicidal behaviour?"
      ],
      "metadata": {
        "id": "e9XH9uX38LFc"
      }
    },
    {
      "cell_type": "markdown",
      "source": [
        "https://www.gov.br/saude/pt-br/assuntos/noticias/2022/setembro/anualmente-mais-de-700-mil-pessoas-cometem-suicidio-segundo-oms\n",
        "\n",
        "https://bmcpublichealth.biomedcentral.com/articles/10.1186/s12889-020-09209-z "
      ],
      "metadata": {
        "id": "4Hp0RsL4KkZj"
      }
    }
  ]
}